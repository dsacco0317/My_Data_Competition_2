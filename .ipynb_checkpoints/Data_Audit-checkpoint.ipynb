{
 "cells": [
  {
   "cell_type": "markdown",
   "metadata": {},
   "source": [
    "## Data Audit - Credit Card Defaults ##"
   ]
  },
  {
   "cell_type": "code",
   "execution_count": 25,
   "metadata": {},
   "outputs": [],
   "source": [
    "# importing useful packages\n",
    "import pandas as pd\n",
    "import numpy as np"
   ]
  },
  {
   "cell_type": "code",
   "execution_count": 29,
   "metadata": {},
   "outputs": [],
   "source": [
    "# loading csv file\n",
    "data = pd.read_csv(\"Default_of_Credit_Card_Clients.csv\", header=1, index_col=0)"
   ]
  },
  {
   "cell_type": "code",
   "execution_count": 30,
   "metadata": {},
   "outputs": [
    {
     "name": "stdout",
     "output_type": "stream",
     "text": [
      "    LIMIT_BAL  SEX  EDUCATION  MARRIAGE  AGE  PAY_0  PAY_2  PAY_3  PAY_4  \\\n",
      "ID                                                                         \n",
      "1       20000    2          2         1   24      2      2     -1     -1   \n",
      "2      120000    2          2         2   26     -1      2      0      0   \n",
      "3       90000    2          2         2   34      0      0      0      0   \n",
      "4       50000    2          2         1   37      0      0      0      0   \n",
      "5       50000    1          2         1   57     -1      0     -1      0   \n",
      "\n",
      "    PAY_5             ...              BILL_AMT4  BILL_AMT5  BILL_AMT6  \\\n",
      "ID                    ...                                                \n",
      "1      -2             ...                      0          0          0   \n",
      "2       0             ...                   3272       3455       3261   \n",
      "3       0             ...                  14331      14948      15549   \n",
      "4       0             ...                  28314      28959      29547   \n",
      "5       0             ...                  20940      19146      19131   \n",
      "\n",
      "    PAY_AMT1  PAY_AMT2  PAY_AMT3  PAY_AMT4  PAY_AMT5  PAY_AMT6  \\\n",
      "ID                                                               \n",
      "1          0       689         0         0         0         0   \n",
      "2          0      1000      1000      1000         0      2000   \n",
      "3       1518      1500      1000      1000      1000      5000   \n",
      "4       2000      2019      1200      1100      1069      1000   \n",
      "5       2000     36681     10000      9000       689       679   \n",
      "\n",
      "    default payment next month  \n",
      "ID                              \n",
      "1                            1  \n",
      "2                            1  \n",
      "3                            0  \n",
      "4                            0  \n",
      "5                            0  \n",
      "\n",
      "[5 rows x 24 columns]\n"
     ]
    }
   ],
   "source": [
    "# inspecting data file\n",
    "print(data.head(5))"
   ]
  },
  {
   "cell_type": "code",
   "execution_count": 31,
   "metadata": {},
   "outputs": [
    {
     "name": "stdout",
     "output_type": "stream",
     "text": [
      "[2 1]\n",
      "[2 1 3 5 4 6 0]\n",
      "[1 2 3 0]\n",
      "[ 2 -1  0 -2  1  3  4  8  7  5  6]\n"
     ]
    }
   ],
   "source": [
    "# identifying unique values in each column\n",
    "print(data.SEX.unique())\n",
    "print(data.EDUCATION.unique())\n",
    "print(data.MARRIAGE.unique())\n",
    "print(data.PAY_0.unique())"
   ]
  },
  {
   "cell_type": "markdown",
   "metadata": {},
   "source": [
    "#### Code Block Above Explaination ##\n",
    "\n",
    "The purpose of the block above is to identify if there are values that are included in columns that were not mentioned in the [Data Dictionary](ba545-data/Competition2-My-Files/Data_Dictionary.md). The data dictionary that was given from the link to the website mentions for missing values is 'N/A', so there can be a combination of empty records, as well as other values, such as 0, that represent missing values."
   ]
  },
  {
   "cell_type": "code",
   "execution_count": 32,
   "metadata": {},
   "outputs": [
    {
     "name": "stdout",
     "output_type": "stream",
     "text": [
      "LIMIT_BAL 0\n",
      "SEX 0\n",
      "EDUCATION 0\n",
      "MARRIAGE 0\n",
      "AGE 0\n",
      "PAY_0 0\n",
      "PAY_2 0\n",
      "PAY_3 0\n",
      "PAY_4 0\n",
      "PAY_5 0\n",
      "PAY_6 0\n",
      "BILL_AMT1 0\n",
      "BILL_AMT2 0\n",
      "BILL_AMT3 0\n",
      "BILL_AMT4 0\n",
      "BILL_AMT5 0\n",
      "BILL_AMT6 0\n",
      "PAY_AMT1 0\n",
      "PAY_AMT2 0\n",
      "PAY_AMT3 0\n",
      "PAY_AMT4 0\n",
      "PAY_AMT5 0\n",
      "PAY_AMT6 0\n",
      "default payment next month 0\n"
     ]
    }
   ],
   "source": [
    "### USING THIS CODE FROM COMPETITION 1\n",
    "\n",
    "# Creating an empty list for column names\n",
    "names = []\n",
    "\n",
    "# Creating an empty list for the number of null values in each column\n",
    "values = []\n",
    "\n",
    "# Checking for Missing Values\n",
    "for col in data.columns:\n",
    "    names.append(col)\n",
    "    values.append(data[col].isnull().sum())\n",
    "    print(names[-1],values[-1])"
   ]
  },
  {
   "cell_type": "markdown",
   "metadata": {},
   "source": [
    "__So if we just went by this, we are thinking that there are no missing values. Reading through the [Data Dictionary](ba545-data/Competition2-My-Files/Data_Dictionary.md), the number `0` is never used for any values. `0` shows up in columns throughout the data set, so we can assume that the missing values are categorized as the number `0`.__"
   ]
  },
  {
   "cell_type": "code",
   "execution_count": 36,
   "metadata": {},
   "outputs": [],
   "source": [
    "# re-loading the csv file with missing values coded\n",
    "data = pd.read_csv(\"Default_of_Credit_Card_Clients.csv\", header=1, index_col=0, na_values=0)"
   ]
  },
  {
   "cell_type": "code",
   "execution_count": 37,
   "metadata": {},
   "outputs": [
    {
     "name": "stdout",
     "output_type": "stream",
     "text": [
      "    LIMIT_BAL  SEX  EDUCATION  MARRIAGE  AGE  PAY_0  PAY_2  PAY_3  PAY_4  \\\n",
      "ID                                                                         \n",
      "1       20000    2        2.0       1.0   24    2.0    2.0   -1.0   -1.0   \n",
      "2      120000    2        2.0       2.0   26   -1.0    2.0    NaN    NaN   \n",
      "3       90000    2        2.0       2.0   34    NaN    NaN    NaN    NaN   \n",
      "\n",
      "    PAY_5             ...              BILL_AMT4  BILL_AMT5  BILL_AMT6  \\\n",
      "ID                    ...                                                \n",
      "1    -2.0             ...                    NaN        NaN        NaN   \n",
      "2     NaN             ...                 3272.0     3455.0     3261.0   \n",
      "3     NaN             ...                14331.0    14948.0    15549.0   \n",
      "\n",
      "    PAY_AMT1  PAY_AMT2  PAY_AMT3  PAY_AMT4  PAY_AMT5  PAY_AMT6  \\\n",
      "ID                                                               \n",
      "1        NaN     689.0       NaN       NaN       NaN       NaN   \n",
      "2        NaN    1000.0    1000.0    1000.0       NaN    2000.0   \n",
      "3     1518.0    1500.0    1000.0    1000.0    1000.0    5000.0   \n",
      "\n",
      "    default payment next month  \n",
      "ID                              \n",
      "1                          1.0  \n",
      "2                          1.0  \n",
      "3                          NaN  \n",
      "\n",
      "[3 rows x 24 columns]\n"
     ]
    }
   ],
   "source": [
    "# inspecting the data with missing values\n",
    "print(data.head(3))"
   ]
  },
  {
   "cell_type": "code",
   "execution_count": 38,
   "metadata": {},
   "outputs": [
    {
     "name": "stdout",
     "output_type": "stream",
     "text": [
      "[2 1]\n",
      "[ 2.  1.  3.  5.  4.  6. nan]\n",
      "[ 1.  2.  3. nan]\n",
      "[ 2. -1. nan -2.  1.  3.  4.  8.  7.  5.  6.]\n"
     ]
    }
   ],
   "source": [
    "# identifying unique values in each column with missing values coded\n",
    "print(data.SEX.unique())\n",
    "print(data.EDUCATION.unique())\n",
    "print(data.MARRIAGE.unique())\n",
    "print(data.PAY_0.unique())"
   ]
  },
  {
   "cell_type": "code",
   "execution_count": 39,
   "metadata": {},
   "outputs": [
    {
     "name": "stdout",
     "output_type": "stream",
     "text": [
      "LIMIT_BAL 0\n",
      "SEX 0\n",
      "EDUCATION 14\n",
      "MARRIAGE 54\n",
      "AGE 0\n",
      "PAY_0 14737\n",
      "PAY_2 15730\n",
      "PAY_3 15764\n",
      "PAY_4 16455\n",
      "PAY_5 16947\n",
      "PAY_6 16286\n",
      "BILL_AMT1 2008\n",
      "BILL_AMT2 2506\n",
      "BILL_AMT3 2870\n",
      "BILL_AMT4 3195\n",
      "BILL_AMT5 3506\n",
      "BILL_AMT6 4020\n",
      "PAY_AMT1 5249\n",
      "PAY_AMT2 5396\n",
      "PAY_AMT3 5968\n",
      "PAY_AMT4 6408\n",
      "PAY_AMT5 6703\n",
      "PAY_AMT6 7173\n",
      "default payment next month 23364\n"
     ]
    }
   ],
   "source": [
    "# Creating an empty list for column names\n",
    "names = []\n",
    "\n",
    "# Creating an empty list for the number of null values in each column\n",
    "values = []\n",
    "\n",
    "# Checking for Missing Values\n",
    "for col in data.columns:\n",
    "    names.append(col)\n",
    "    values.append(data[col].isnull().sum())\n",
    "    print(names[-1],values[-1])"
   ]
  },
  {
   "cell_type": "markdown",
   "metadata": {},
   "source": [
    "# __DO NOT IMPUTE 'DEFAULT PAYMENT NEXT MONTH!__ #"
   ]
  },
  {
   "cell_type": "markdown",
   "metadata": {},
   "source": [
    "__Now there are a lot more missing values. Rarely there will be a data set with no missing values.__\n",
    "\n",
    "What we will have to do for descriptive statistics is to impute for these missing data values so we have no missing values. The total amount of records is `30,000`."
   ]
  },
  {
   "cell_type": "code",
   "execution_count": 48,
   "metadata": {},
   "outputs": [
    {
     "name": "stdout",
     "output_type": "stream",
     "text": [
      "LIMIT_BAL                       int64\n",
      "SEX                             int64\n",
      "EDUCATION                     float64\n",
      "MARRIAGE                      float64\n",
      "AGE                             int64\n",
      "PAY_0                         float64\n",
      "PAY_2                         float64\n",
      "PAY_3                         float64\n",
      "PAY_4                         float64\n",
      "PAY_5                         float64\n",
      "PAY_6                         float64\n",
      "BILL_AMT1                     float64\n",
      "BILL_AMT2                     float64\n",
      "BILL_AMT3                     float64\n",
      "BILL_AMT4                     float64\n",
      "BILL_AMT5                     float64\n",
      "BILL_AMT6                     float64\n",
      "PAY_AMT1                      float64\n",
      "PAY_AMT2                      float64\n",
      "PAY_AMT3                      float64\n",
      "PAY_AMT4                      float64\n",
      "PAY_AMT5                      float64\n",
      "PAY_AMT6                      float64\n",
      "default payment next month    float64\n",
      "dtype: object\n"
     ]
    }
   ],
   "source": [
    "# checking data types\n",
    "print(data.dtypes)"
   ]
  }
 ],
 "metadata": {
  "kernelspec": {
   "display_name": "Python 3",
   "language": "python",
   "name": "python3"
  },
  "language_info": {
   "codemirror_mode": {
    "name": "ipython",
    "version": 3
   },
   "file_extension": ".py",
   "mimetype": "text/x-python",
   "name": "python",
   "nbconvert_exporter": "python",
   "pygments_lexer": "ipython3",
   "version": "3.6.5"
  }
 },
 "nbformat": 4,
 "nbformat_minor": 2
}
