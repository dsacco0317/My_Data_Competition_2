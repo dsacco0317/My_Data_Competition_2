{
 "cells": [
  {
   "cell_type": "markdown",
   "metadata": {},
   "source": [
    "### Data Audit - Credit Card Defaults ###"
   ]
  },
  {
   "cell_type": "code",
   "execution_count": 1,
   "metadata": {},
   "outputs": [],
   "source": [
    "# importing packages\n",
    "import pandas as pd\n",
    "import numpy as np"
   ]
  },
  {
   "cell_type": "code",
   "execution_count": 4,
   "metadata": {},
   "outputs": [],
   "source": [
    "# loading in excel file\n",
    "\n",
    "data = pd.read_excel(\"default of credit card clients.xls\", header=0, index_col=0)"
   ]
  },
  {
   "cell_type": "code",
   "execution_count": 5,
   "metadata": {},
   "outputs": [
    {
     "name": "stdout",
     "output_type": "stream",
     "text": [
      "           X1   X2         X3        X4   X5     X6     X7     X8     X9  \\\n",
      "ID  LIMIT_BAL  SEX  EDUCATION  MARRIAGE  AGE  PAY_0  PAY_2  PAY_3  PAY_4   \n",
      "1       20000    2          2         1   24      2      2     -1     -1   \n",
      "2      120000    2          2         2   26     -1      2      0      0   \n",
      "3       90000    2          2         2   34      0      0      0      0   \n",
      "4       50000    2          2         1   37      0      0      0      0   \n",
      "\n",
      "      X10             ...                    X15        X16        X17  \\\n",
      "ID  PAY_5             ...              BILL_AMT4  BILL_AMT5  BILL_AMT6   \n",
      "1      -2             ...                      0          0          0   \n",
      "2       0             ...                   3272       3455       3261   \n",
      "3       0             ...                  14331      14948      15549   \n",
      "4       0             ...                  28314      28959      29547   \n",
      "\n",
      "         X18       X19       X20       X21       X22       X23  \\\n",
      "ID  PAY_AMT1  PAY_AMT2  PAY_AMT3  PAY_AMT4  PAY_AMT5  PAY_AMT6   \n",
      "1          0       689         0         0         0         0   \n",
      "2          0      1000      1000      1000         0      2000   \n",
      "3       1518      1500      1000      1000      1000      5000   \n",
      "4       2000      2019      1200      1100      1069      1000   \n",
      "\n",
      "                             Y  \n",
      "ID  default payment next month  \n",
      "1                            1  \n",
      "2                            1  \n",
      "3                            0  \n",
      "4                            0  \n",
      "\n",
      "[5 rows x 24 columns]\n"
     ]
    }
   ],
   "source": [
    "print(data.head(5))"
   ]
  },
  {
   "cell_type": "code",
   "execution_count": 7,
   "metadata": {},
   "outputs": [],
   "source": [
    "# changing the last column name\n",
    "data.rename(columns = {'default payment next month':'default_pay_next_month'});"
   ]
  },
  {
   "cell_type": "code",
   "execution_count": 8,
   "metadata": {},
   "outputs": [],
   "source": [
    "# exporting data to new dataframe cause who the hell puts spaces in a column name\n",
    "data.to_csv(\"Default_of_Credit_Card_Clients.csv\", \",\")"
   ]
  }
 ],
 "metadata": {
  "kernelspec": {
   "display_name": "Python 3",
   "language": "python",
   "name": "python3"
  },
  "language_info": {
   "codemirror_mode": {
    "name": "ipython",
    "version": 3
   },
   "file_extension": ".py",
   "mimetype": "text/x-python",
   "name": "python",
   "nbconvert_exporter": "python",
   "pygments_lexer": "ipython3",
   "version": "3.6.5"
  }
 },
 "nbformat": 4,
 "nbformat_minor": 2
}
